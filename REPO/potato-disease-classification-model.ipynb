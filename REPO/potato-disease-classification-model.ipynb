{
 "cells": [
  {
   "cell_type": "markdown",
   "metadata": {},
   "source": [
    "# Potato Disease Classification"
   ]
  },
  {
   "cell_type": "markdown",
   "metadata": {},
   "source": [
    "Dataset credits: https://www.kaggle.com/arjuntejaswi/plant-village"
   ]
  },
  {
   "cell_type": "markdown",
   "metadata": {},
   "source": [
    "### Import all the Dependencies"
   ]
  },
  {
   "cell_type": "code",
   "execution_count": 1,
   "metadata": {},
   "outputs": [],
   "source": [
    "import tensorflow as tf\n",
    "from tensorflow.keras import models, layers\n"
   ]
  },
  {
   "cell_type": "markdown",
   "metadata": {},
   "source": [
    "### Set all the Constants"
   ]
  },
  {
   "cell_type": "code",
   "execution_count": 2,
   "metadata": {},
   "outputs": [],
   "source": [
    "BATCH_SIZE = 32\n",
    "IMAGE_SIZE = 256\n",
    "CHANNELS=3\n",
    "EPOCHS=50"
   ]
  },
  {
   "cell_type": "markdown",
   "metadata": {},
   "source": [
    "### Import data into tensorflow dataset object"
   ]
  },
  {
   "cell_type": "code",
   "execution_count": 4,
   "metadata": {},
   "outputs": [
    {
     "name": "stdout",
     "output_type": "stream",
     "text": [
      "Found 2152 files belonging to 3 classes.\n"
     ]
    }
   ],
   "source": [
    "dataset = tf.keras.preprocessing.image_dataset_from_directory(\n",
    "    \"PlantVillage\",\n",
    "    seed=123,\n",
    "    shuffle=True,\n",
    "    image_size=(IMAGE_SIZE,IMAGE_SIZE),\n",
    "    batch_size=BATCH_SIZE\n",
    ")"
   ]
  },
  {
   "cell_type": "code",
   "execution_count": 6,
   "metadata": {},
   "outputs": [
    {
     "data": {
      "text/plain": [
       "['Potato___Early_blight', 'Potato___Late_blight', 'Potato___healthy']"
      ]
     },
     "execution_count": 6,
     "metadata": {},
     "output_type": "execute_result"
    }
   ],
   "source": [
    "class_names = dataset.class_names\n",
    "class_names"
   ]
  },
  {
   "cell_type": "code",
   "execution_count": 7,
   "metadata": {},
   "outputs": [
    {
     "name": "stdout",
     "output_type": "stream",
     "text": [
      "(32, 256, 256, 3)\n",
      "[1 1 1 0 0 0 0 0 1 1 1 1 0 1 0 1 1 1 0 1 0 1 0 0 1 0 0 1 1 2 0 0]\n"
     ]
    }
   ],
   "source": [
    "for image_batch, labels_batch in dataset.take(1):\n",
    "    print(image_batch.shape)\n",
    "    print(labels_batch.numpy())"
   ]
  },
  {
   "cell_type": "markdown",
   "metadata": {},
   "source": [
    "As you can see above, each element in the dataset is a tuple. First element is a batch of 32 elements of images. Second element is a batch of 32 elements of class labels "
   ]
  },
  {
   "cell_type": "markdown",
   "metadata": {},
   "source": [
    "### Function to Split Dataset\n",
    "\n",
    "Dataset should be bifurcated into 3 subsets, namely:\n",
    "1. Training: Dataset to be used while training\n",
    "2. Validation: Dataset to be tested against while training\n",
    "3. Test: Dataset to be tested against after we trained a model"
   ]
  },
  {
   "cell_type": "code",
   "execution_count": 9,
   "metadata": {},
   "outputs": [
    {
     "data": {
      "text/plain": [
       "68"
      ]
     },
     "execution_count": 9,
     "metadata": {},
     "output_type": "execute_result"
    }
   ],
   "source": [
    "len(dataset)"
   ]
  },
  {
   "cell_type": "code",
   "execution_count": 10,
   "metadata": {},
   "outputs": [
    {
     "data": {
      "text/plain": [
       "54.400000000000006"
      ]
     },
     "execution_count": 10,
     "metadata": {},
     "output_type": "execute_result"
    }
   ],
   "source": [
    "train_size = 0.8\n",
    "len(dataset)*train_size"
   ]
  },
  {
   "cell_type": "code",
   "execution_count": 11,
   "metadata": {},
   "outputs": [
    {
     "data": {
      "text/plain": [
       "54"
      ]
     },
     "execution_count": 11,
     "metadata": {},
     "output_type": "execute_result"
    }
   ],
   "source": [
    "train_ds = dataset.take(54)\n",
    "len(train_ds)"
   ]
  },
  {
   "cell_type": "code",
   "execution_count": 12,
   "metadata": {},
   "outputs": [
    {
     "data": {
      "text/plain": [
       "14"
      ]
     },
     "execution_count": 12,
     "metadata": {},
     "output_type": "execute_result"
    }
   ],
   "source": [
    "test_ds = dataset.skip(54)\n",
    "len(test_ds)"
   ]
  },
  {
   "cell_type": "code",
   "execution_count": 13,
   "metadata": {},
   "outputs": [
    {
     "data": {
      "text/plain": [
       "6.800000000000001"
      ]
     },
     "execution_count": 13,
     "metadata": {},
     "output_type": "execute_result"
    }
   ],
   "source": [
    "val_size=0.1\n",
    "len(dataset)*val_size"
   ]
  },
  {
   "cell_type": "code",
   "execution_count": 14,
   "metadata": {},
   "outputs": [
    {
     "data": {
      "text/plain": [
       "6"
      ]
     },
     "execution_count": 14,
     "metadata": {},
     "output_type": "execute_result"
    }
   ],
   "source": [
    "val_ds = test_ds.take(6)\n",
    "len(val_ds)"
   ]
  },
  {
   "cell_type": "code",
   "execution_count": 15,
   "metadata": {},
   "outputs": [
    {
     "data": {
      "text/plain": [
       "8"
      ]
     },
     "execution_count": 15,
     "metadata": {},
     "output_type": "execute_result"
    }
   ],
   "source": [
    "test_ds = test_ds.skip(6)\n",
    "len(test_ds)"
   ]
  },
  {
   "cell_type": "code",
   "execution_count": 16,
   "metadata": {},
   "outputs": [],
   "source": [
    "def get_dataset_partitions_tf(ds, train_split=0.8, val_split=0.1, test_split=0.1, shuffle=True, shuffle_size=10000):\n",
    "    assert (train_split + test_split + val_split) == 1\n",
    "    \n",
    "    ds_size = len(ds)\n",
    "    \n",
    "    if shuffle:\n",
    "        ds = ds.shuffle(shuffle_size, seed=12)\n",
    "    \n",
    "    train_size = int(train_split * ds_size)\n",
    "    val_size = int(val_split * ds_size)\n",
    "    \n",
    "    train_ds = ds.take(train_size)    \n",
    "    val_ds = ds.skip(train_size).take(val_size)\n",
    "    test_ds = ds.skip(train_size).skip(val_size)\n",
    "    \n",
    "    return train_ds, val_ds, test_ds"
   ]
  },
  {
   "cell_type": "code",
   "execution_count": 17,
   "metadata": {},
   "outputs": [],
   "source": [
    "train_ds, val_ds, test_ds = get_dataset_partitions_tf(dataset)"
   ]
  },
  {
   "cell_type": "code",
   "execution_count": 18,
   "metadata": {},
   "outputs": [
    {
     "data": {
      "text/plain": [
       "54"
      ]
     },
     "execution_count": 18,
     "metadata": {},
     "output_type": "execute_result"
    }
   ],
   "source": [
    "len(train_ds)"
   ]
  },
  {
   "cell_type": "code",
   "execution_count": 19,
   "metadata": {},
   "outputs": [
    {
     "data": {
      "text/plain": [
       "6"
      ]
     },
     "execution_count": 19,
     "metadata": {},
     "output_type": "execute_result"
    }
   ],
   "source": [
    "len(val_ds)"
   ]
  },
  {
   "cell_type": "code",
   "execution_count": 20,
   "metadata": {},
   "outputs": [
    {
     "data": {
      "text/plain": [
       "8"
      ]
     },
     "execution_count": 20,
     "metadata": {},
     "output_type": "execute_result"
    }
   ],
   "source": [
    "len(test_ds)"
   ]
  },
  {
   "cell_type": "markdown",
   "metadata": {},
   "source": [
    "### Cache, Shuffle, and Prefetch the Dataset"
   ]
  },
  {
   "cell_type": "code",
   "execution_count": 21,
   "metadata": {},
   "outputs": [],
   "source": [
    "train_ds = train_ds.cache().shuffle(1000).prefetch(buffer_size=tf.data.AUTOTUNE)\n",
    "val_ds = val_ds.cache().shuffle(1000).prefetch(buffer_size=tf.data.AUTOTUNE)\n",
    "test_ds = test_ds.cache().shuffle(1000).prefetch(buffer_size=tf.data.AUTOTUNE)"
   ]
  },
  {
   "cell_type": "markdown",
   "metadata": {},
   "source": [
    "## Building the Model"
   ]
  },
  {
   "cell_type": "code",
   "execution_count": 22,
   "metadata": {},
   "outputs": [],
   "source": [
    "resize_and_rescale = tf.keras.Sequential([\n",
    "  layers.experimental.preprocessing.Resizing(IMAGE_SIZE, IMAGE_SIZE),\n",
    "  layers.experimental.preprocessing.Rescaling(1./255),\n",
    "])"
   ]
  },
  {
   "cell_type": "markdown",
   "metadata": {},
   "source": [
    "### Data Augmentation\n",
    "Data Augmentation is needed when we have less data, this boosts the accuracy of our model by augmenting the data."
   ]
  },
  {
   "cell_type": "code",
   "execution_count": 23,
   "metadata": {},
   "outputs": [],
   "source": [
    "data_augmentation = tf.keras.Sequential([\n",
    "  layers.experimental.preprocessing.RandomFlip(\"horizontal_and_vertical\"),\n",
    "  layers.experimental.preprocessing.RandomRotation(0.2),\n",
    "])"
   ]
  },
  {
   "cell_type": "markdown",
   "metadata": {},
   "source": [
    "#### Applying Data Augmentation to Train Dataset"
   ]
  },
  {
   "cell_type": "code",
   "execution_count": 27,
   "metadata": {},
   "outputs": [],
   "source": [
    "train_ds = train_ds.map(\n",
    "    lambda x, y: (data_augmentation(x, training=True), y)\n",
    ").prefetch(buffer_size=tf.data.AUTOTUNE)\n",
    "\n"
   ]
  },
  {
   "cell_type": "code",
   "execution_count": 30,
   "metadata": {},
   "outputs": [],
   "source": [
    "input_shape = (BATCH_SIZE, IMAGE_SIZE, IMAGE_SIZE, CHANNELS)\n",
    "n_classes = 3\n",
    "\n",
    "model = models.Sequential([\n",
    "    resize_and_rescale,\n",
    "    layers.Conv2D(32, kernel_size = (3,3), activation='relu', input_shape=input_shape),\n",
    "    layers.MaxPooling2D((2, 2)),\n",
    "    layers.Conv2D(64,  kernel_size = (3,3), activation='relu'),\n",
    "    layers.MaxPooling2D((2, 2)),\n",
    "    layers.Conv2D(64,  kernel_size = (3,3), activation='relu'),\n",
    "    layers.MaxPooling2D((2, 2)),\n",
    "    layers.Conv2D(64, (3, 3), activation='relu'),\n",
    "    layers.MaxPooling2D((2, 2)),\n",
    "    layers.Conv2D(64, (3, 3), activation='relu'),\n",
    "    layers.MaxPooling2D((2, 2)),\n",
    "    layers.Conv2D(64, (3, 3), activation='relu'),\n",
    "    layers.MaxPooling2D((2, 2)),\n",
    "    layers.Flatten(),\n",
    "    layers.Dense(64, activation='relu'),\n",
    "    layers.Dense(n_classes, activation='softmax'),\n",
    "])\n",
    "\n",
    "model.build(input_shape=input_shape)"
   ]
  },
  {
   "cell_type": "code",
   "execution_count": 31,
   "metadata": {},
   "outputs": [
    {
     "name": "stdout",
     "output_type": "stream",
     "text": [
      "Model: \"sequential_2\"\n",
      "_________________________________________________________________\n",
      "Layer (type)                 Output Shape              Param #   \n",
      "=================================================================\n",
      "sequential (Sequential)      (32, 256, 256, 3)         0         \n",
      "_________________________________________________________________\n",
      "conv2d (Conv2D)              (32, 254, 254, 32)        896       \n",
      "_________________________________________________________________\n",
      "max_pooling2d (MaxPooling2D) (32, 127, 127, 32)        0         \n",
      "_________________________________________________________________\n",
      "conv2d_1 (Conv2D)            (32, 125, 125, 64)        18496     \n",
      "_________________________________________________________________\n",
      "max_pooling2d_1 (MaxPooling2 (32, 62, 62, 64)          0         \n",
      "_________________________________________________________________\n",
      "conv2d_2 (Conv2D)            (32, 60, 60, 64)          36928     \n",
      "_________________________________________________________________\n",
      "max_pooling2d_2 (MaxPooling2 (32, 30, 30, 64)          0         \n",
      "_________________________________________________________________\n",
      "conv2d_3 (Conv2D)            (32, 28, 28, 64)          36928     \n",
      "_________________________________________________________________\n",
      "max_pooling2d_3 (MaxPooling2 (32, 14, 14, 64)          0         \n",
      "_________________________________________________________________\n",
      "conv2d_4 (Conv2D)            (32, 12, 12, 64)          36928     \n",
      "_________________________________________________________________\n",
      "max_pooling2d_4 (MaxPooling2 (32, 6, 6, 64)            0         \n",
      "_________________________________________________________________\n",
      "conv2d_5 (Conv2D)            (32, 4, 4, 64)            36928     \n",
      "_________________________________________________________________\n",
      "max_pooling2d_5 (MaxPooling2 (32, 2, 2, 64)            0         \n",
      "_________________________________________________________________\n",
      "flatten (Flatten)            (32, 256)                 0         \n",
      "_________________________________________________________________\n",
      "dense (Dense)                (32, 64)                  16448     \n",
      "_________________________________________________________________\n",
      "dense_1 (Dense)              (32, 3)                   195       \n",
      "=================================================================\n",
      "Total params: 183,747\n",
      "Trainable params: 183,747\n",
      "Non-trainable params: 0\n",
      "_________________________________________________________________\n"
     ]
    }
   ],
   "source": [
    "model.summary()"
   ]
  },
  {
   "cell_type": "markdown",
   "metadata": {},
   "source": [
    "### Compiling the Model\n",
    "We use `adam` Optimizer, `SparseCategoricalCrossentropy` for losses, `accuracy` as a metric"
   ]
  },
  {
   "cell_type": "code",
   "execution_count": 32,
   "metadata": {},
   "outputs": [],
   "source": [
    "model.compile(\n",
    "    optimizer='adam',\n",
    "    loss=tf.keras.losses.SparseCategoricalCrossentropy(from_logits=False),\n",
    "    metrics=['accuracy']\n",
    ")"
   ]
  },
  {
   "cell_type": "code",
   "execution_count": 33,
   "metadata": {
    "scrolled": false
   },
   "outputs": [
    {
     "name": "stdout",
     "output_type": "stream",
     "text": [
      "Epoch 1/50\n",
      "54/54 [==============================] - 20s 255ms/step - loss: 0.8802 - accuracy: 0.5341 - val_loss: 0.8462 - val_accuracy: 0.5938\n",
      "Epoch 2/50\n",
      "54/54 [==============================] - 11s 196ms/step - loss: 0.6033 - accuracy: 0.7396 - val_loss: 0.6225 - val_accuracy: 0.6979\n",
      "Epoch 3/50\n",
      "54/54 [==============================] - 9s 172ms/step - loss: 0.3647 - accuracy: 0.8403 - val_loss: 0.3065 - val_accuracy: 0.8802\n",
      "Epoch 4/50\n",
      "54/54 [==============================] - 10s 176ms/step - loss: 0.2776 - accuracy: 0.8999 - val_loss: 0.2702 - val_accuracy: 0.8750\n",
      "Epoch 5/50\n",
      "54/54 [==============================] - 10s 179ms/step - loss: 0.2448 - accuracy: 0.8953 - val_loss: 0.1857 - val_accuracy: 0.9062\n",
      "Epoch 6/50\n",
      "54/54 [==============================] - 9s 174ms/step - loss: 0.2020 - accuracy: 0.9144 - val_loss: 0.2987 - val_accuracy: 0.9115\n",
      "Epoch 7/50\n",
      "54/54 [==============================] - 10s 185ms/step - loss: 0.1751 - accuracy: 0.9288 - val_loss: 0.1854 - val_accuracy: 0.9375\n",
      "Epoch 8/50\n",
      "54/54 [==============================] - 10s 180ms/step - loss: 0.1436 - accuracy: 0.9444 - val_loss: 0.2273 - val_accuracy: 0.9167\n",
      "Epoch 9/50\n",
      "54/54 [==============================] - 10s 175ms/step - loss: 0.1128 - accuracy: 0.9583 - val_loss: 0.1425 - val_accuracy: 0.9479\n",
      "Epoch 10/50\n",
      "54/54 [==============================] - 10s 179ms/step - loss: 0.1218 - accuracy: 0.9549 - val_loss: 0.2310 - val_accuracy: 0.9115\n",
      "Epoch 11/50\n",
      "54/54 [==============================] - 10s 179ms/step - loss: 0.1524 - accuracy: 0.9398 - val_loss: 0.0774 - val_accuracy: 0.9688\n",
      "Epoch 12/50\n",
      "54/54 [==============================] - 10s 186ms/step - loss: 0.1062 - accuracy: 0.9578 - val_loss: 0.1787 - val_accuracy: 0.9427\n",
      "Epoch 13/50\n",
      "54/54 [==============================] - 9s 172ms/step - loss: 0.1299 - accuracy: 0.9549 - val_loss: 0.0929 - val_accuracy: 0.9531\n",
      "Epoch 14/50\n",
      "54/54 [==============================] - 9s 169ms/step - loss: 0.0971 - accuracy: 0.9601 - val_loss: 0.1230 - val_accuracy: 0.9531\n",
      "Epoch 15/50\n",
      "54/54 [==============================] - 9s 171ms/step - loss: 0.0967 - accuracy: 0.9659 - val_loss: 0.0804 - val_accuracy: 0.9635\n",
      "Epoch 16/50\n",
      "54/54 [==============================] - 9s 172ms/step - loss: 0.0764 - accuracy: 0.9676 - val_loss: 0.1225 - val_accuracy: 0.9531\n",
      "Epoch 17/50\n",
      "54/54 [==============================] - 9s 174ms/step - loss: 0.1157 - accuracy: 0.9543 - val_loss: 0.2200 - val_accuracy: 0.9219\n",
      "Epoch 18/50\n",
      "54/54 [==============================] - 10s 175ms/step - loss: 0.0947 - accuracy: 0.9659 - val_loss: 0.1852 - val_accuracy: 0.9271\n",
      "Epoch 19/50\n",
      "54/54 [==============================] - 9s 174ms/step - loss: 0.0737 - accuracy: 0.9711 - val_loss: 0.0923 - val_accuracy: 0.9583\n",
      "Epoch 20/50\n",
      "54/54 [==============================] - 9s 173ms/step - loss: 0.0518 - accuracy: 0.9815 - val_loss: 0.0678 - val_accuracy: 0.9688\n",
      "Epoch 21/50\n",
      "54/54 [==============================] - 9s 172ms/step - loss: 0.0473 - accuracy: 0.9826 - val_loss: 0.0516 - val_accuracy: 0.9740\n",
      "Epoch 22/50\n",
      "54/54 [==============================] - 9s 173ms/step - loss: 0.0510 - accuracy: 0.9803 - val_loss: 0.3043 - val_accuracy: 0.8958\n",
      "Epoch 23/50\n",
      "54/54 [==============================] - 9s 175ms/step - loss: 0.0510 - accuracy: 0.9792 - val_loss: 0.2573 - val_accuracy: 0.9062\n",
      "Epoch 24/50\n",
      "54/54 [==============================] - 10s 176ms/step - loss: 0.0820 - accuracy: 0.9670 - val_loss: 0.0828 - val_accuracy: 0.9635\n",
      "Epoch 25/50\n",
      "54/54 [==============================] - 9s 175ms/step - loss: 0.0459 - accuracy: 0.9844 - val_loss: 0.0912 - val_accuracy: 0.9740\n",
      "Epoch 26/50\n",
      "54/54 [==============================] - 10s 176ms/step - loss: 0.0361 - accuracy: 0.9867 - val_loss: 0.0354 - val_accuracy: 0.9844\n",
      "Epoch 27/50\n",
      "54/54 [==============================] - 9s 170ms/step - loss: 0.0461 - accuracy: 0.9838 - val_loss: 0.0364 - val_accuracy: 0.9844\n",
      "Epoch 28/50\n",
      "54/54 [==============================] - 9s 170ms/step - loss: 0.0414 - accuracy: 0.9838 - val_loss: 0.1192 - val_accuracy: 0.9479\n",
      "Epoch 29/50\n",
      "54/54 [==============================] - 9s 168ms/step - loss: 0.0424 - accuracy: 0.9861 - val_loss: 0.0509 - val_accuracy: 0.9844\n",
      "Epoch 30/50\n",
      "54/54 [==============================] - 9s 167ms/step - loss: 0.0348 - accuracy: 0.9873 - val_loss: 0.1987 - val_accuracy: 0.9531\n",
      "Epoch 31/50\n",
      "54/54 [==============================] - 10s 178ms/step - loss: 0.0437 - accuracy: 0.9821 - val_loss: 0.0371 - val_accuracy: 0.9948\n",
      "Epoch 32/50\n",
      "54/54 [==============================] - 10s 193ms/step - loss: 0.0439 - accuracy: 0.9855 - val_loss: 0.1708 - val_accuracy: 0.9375\n",
      "Epoch 33/50\n",
      "54/54 [==============================] - 10s 187ms/step - loss: 0.0558 - accuracy: 0.9774 - val_loss: 0.1559 - val_accuracy: 0.9531\n",
      "Epoch 34/50\n",
      "54/54 [==============================] - 9s 171ms/step - loss: 0.0412 - accuracy: 0.9821 - val_loss: 0.1024 - val_accuracy: 0.9583\n",
      "Epoch 35/50\n",
      "54/54 [==============================] - 9s 170ms/step - loss: 0.0312 - accuracy: 0.9902 - val_loss: 0.0919 - val_accuracy: 0.9583\n",
      "Epoch 36/50\n",
      "54/54 [==============================] - 10s 178ms/step - loss: 0.0431 - accuracy: 0.9844 - val_loss: 0.0217 - val_accuracy: 0.9948\n",
      "Epoch 37/50\n",
      "54/54 [==============================] - 10s 178ms/step - loss: 0.0353 - accuracy: 0.9896 - val_loss: 0.0092 - val_accuracy: 1.0000\n",
      "Epoch 38/50\n",
      "54/54 [==============================] - 9s 173ms/step - loss: 0.0206 - accuracy: 0.9936 - val_loss: 0.0079 - val_accuracy: 1.0000\n",
      "Epoch 39/50\n",
      "54/54 [==============================] - 9s 171ms/step - loss: 0.0307 - accuracy: 0.9913 - val_loss: 0.0209 - val_accuracy: 0.9896\n",
      "Epoch 40/50\n",
      "54/54 [==============================] - 9s 175ms/step - loss: 0.0143 - accuracy: 0.9948 - val_loss: 0.0240 - val_accuracy: 0.9896\n",
      "Epoch 41/50\n",
      "54/54 [==============================] - 9s 170ms/step - loss: 0.0196 - accuracy: 0.9936 - val_loss: 0.0441 - val_accuracy: 0.9844\n",
      "Epoch 42/50\n",
      "54/54 [==============================] - 9s 173ms/step - loss: 0.0382 - accuracy: 0.9832 - val_loss: 0.2912 - val_accuracy: 0.9271\n",
      "Epoch 43/50\n",
      "54/54 [==============================] - 9s 172ms/step - loss: 0.0416 - accuracy: 0.9832 - val_loss: 0.0425 - val_accuracy: 0.9896\n",
      "Epoch 44/50\n",
      "54/54 [==============================] - 9s 171ms/step - loss: 0.0162 - accuracy: 0.9948 - val_loss: 0.0567 - val_accuracy: 0.9792\n",
      "Epoch 45/50\n",
      "54/54 [==============================] - 9s 170ms/step - loss: 0.0990 - accuracy: 0.9653 - val_loss: 0.0892 - val_accuracy: 0.9688\n",
      "Epoch 46/50\n",
      "54/54 [==============================] - 9s 171ms/step - loss: 0.0243 - accuracy: 0.9919 - val_loss: 0.0174 - val_accuracy: 0.9948\n",
      "Epoch 47/50\n",
      "54/54 [==============================] - 9s 170ms/step - loss: 0.0476 - accuracy: 0.9844 - val_loss: 0.0217 - val_accuracy: 0.9896\n",
      "Epoch 48/50\n",
      "54/54 [==============================] - 9s 170ms/step - loss: 0.0184 - accuracy: 0.9931 - val_loss: 0.1227 - val_accuracy: 0.9635\n",
      "Epoch 49/50\n",
      "54/54 [==============================] - 10s 184ms/step - loss: 0.0298 - accuracy: 0.9884 - val_loss: 0.0528 - val_accuracy: 0.9844\n",
      "Epoch 50/50\n",
      "54/54 [==============================] - 11s 196ms/step - loss: 0.0189 - accuracy: 0.9948 - val_loss: 0.0064 - val_accuracy: 1.0000\n"
     ]
    }
   ],
   "source": [
    "history = model.fit(\n",
    "    train_ds,\n",
    "    batch_size=BATCH_SIZE,\n",
    "    validation_data=val_ds,\n",
    "    verbose=1,\n",
    "    epochs=50,\n",
    ")"
   ]
  },
  {
   "cell_type": "code",
   "execution_count": 34,
   "metadata": {},
   "outputs": [
    {
     "name": "stdout",
     "output_type": "stream",
     "text": [
      "8/8 [==============================] - 1s 14ms/step - loss: 0.0063 - accuracy: 1.0000\n"
     ]
    }
   ],
   "source": [
    "scores = model.evaluate(test_ds)"
   ]
  },
  {
   "cell_type": "markdown",
   "metadata": {},
   "source": [
    "**You can see above that we get 100.00% accuracy for our test dataset. This is considered to be a pretty good accuracy**"
   ]
  },
  {
   "cell_type": "code",
   "execution_count": 35,
   "metadata": {},
   "outputs": [
    {
     "data": {
      "text/plain": [
       "[0.006251859944313765, 1.0]"
      ]
     },
     "execution_count": 35,
     "metadata": {},
     "output_type": "execute_result"
    }
   ],
   "source": [
    "scores"
   ]
  },
  {
   "cell_type": "markdown",
   "metadata": {},
   "source": [
    "Scores is just a list containing loss and accuracy value"
   ]
  },
  {
   "cell_type": "code",
   "execution_count": 48,
   "metadata": {},
   "outputs": [],
   "source": [
    "model.save(\"../potatoes.h5\")"
   ]
  }
 ],
 "metadata": {
  "kernelspec": {
   "display_name": "Python 3 (ipykernel)",
   "language": "python",
   "name": "python3"
  },
  "language_info": {
   "codemirror_mode": {
    "name": "ipython",
    "version": 3
   },
   "file_extension": ".py",
   "mimetype": "text/x-python",
   "name": "python",
   "nbconvert_exporter": "python",
   "pygments_lexer": "ipython3",
   "version": "3.11.4"
  }
 },
 "nbformat": 4,
 "nbformat_minor": 4
}
